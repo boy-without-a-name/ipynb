{
 "cells": [
  {
   "cell_type": "code",
   "execution_count": 12,
   "id": "d82093c1-5c03-4e9e-bdcc-eb65174adda0",
   "metadata": {},
   "outputs": [],
   "source": [
    "import pandas as pd\n",
    "from datetime import datetime, timezone, timedelta\n",
    "import calendar\n",
    "import matplotlib.pyplot as plt"
   ]
  },
  {
   "cell_type": "markdown",
   "id": "382dd8f9-3da1-4fb4-8671-beea195343f1",
   "metadata": {},
   "source": [
    "## Задание 1\n",
    "Retention – один из самых важных показателей в компании. Ваша задача – написать функцию, которая будет считать retention игроков (по дням от даты регистрации игрока)."
   ]
  },
  {
   "cell_type": "markdown",
   "id": "50266f11-1aa0-4412-b600-d53f68e2a3f7",
   "metadata": {},
   "source": [
    "#### Проведём предварительное исследование данных"
   ]
  },
  {
   "cell_type": "code",
   "execution_count": 20,
   "id": "2abc1db7-b08d-41e9-9b0d-f521ea686282",
   "metadata": {},
   "outputs": [
    {
     "data": {
      "text/html": [
       "<div>\n",
       "<style scoped>\n",
       "    .dataframe tbody tr th:only-of-type {\n",
       "        vertical-align: middle;\n",
       "    }\n",
       "\n",
       "    .dataframe tbody tr th {\n",
       "        vertical-align: top;\n",
       "    }\n",
       "\n",
       "    .dataframe thead th {\n",
       "        text-align: right;\n",
       "    }\n",
       "</style>\n",
       "<table border=\"1\" class=\"dataframe\">\n",
       "  <thead>\n",
       "    <tr style=\"text-align: right;\">\n",
       "      <th></th>\n",
       "      <th>reg_ts</th>\n",
       "      <th>uid</th>\n",
       "    </tr>\n",
       "  </thead>\n",
       "  <tbody>\n",
       "    <tr>\n",
       "      <th>0</th>\n",
       "      <td>911382223</td>\n",
       "      <td>1</td>\n",
       "    </tr>\n",
       "    <tr>\n",
       "      <th>1</th>\n",
       "      <td>932683089</td>\n",
       "      <td>2</td>\n",
       "    </tr>\n",
       "    <tr>\n",
       "      <th>2</th>\n",
       "      <td>947802447</td>\n",
       "      <td>3</td>\n",
       "    </tr>\n",
       "    <tr>\n",
       "      <th>3</th>\n",
       "      <td>959523541</td>\n",
       "      <td>4</td>\n",
       "    </tr>\n",
       "    <tr>\n",
       "      <th>4</th>\n",
       "      <td>969103313</td>\n",
       "      <td>5</td>\n",
       "    </tr>\n",
       "  </tbody>\n",
       "</table>\n",
       "</div>"
      ],
      "text/plain": [
       "      reg_ts  uid\n",
       "0  911382223    1\n",
       "1  932683089    2\n",
       "2  947802447    3\n",
       "3  959523541    4\n",
       "4  969103313    5"
      ]
     },
     "execution_count": 20,
     "metadata": {},
     "output_type": "execute_result"
    }
   ],
   "source": [
    "registrations = pd.read_csv('problem1-reg_data (1).csv', sep = ';')\n",
    "registrations.head()"
   ]
  },
  {
   "cell_type": "code",
   "execution_count": null,
   "id": "6cc96a91-ba47-4c0e-a18a-a37f2fb9bcd2",
   "metadata": {},
   "outputs": [],
   "source": []
  },
  {
   "cell_type": "code",
   "execution_count": 21,
   "id": "fabb55e7-c243-4eb3-ac52-0f46c3fb54d7",
   "metadata": {},
   "outputs": [],
   "source": [
    "def retention(df):\n",
    "    \n",
    "    data = df[['reg_ts','uid','auth_ts']]\n",
    "    \n",
    "    # Найдем минимальную и максимальную дату, с котороми может работать наша программа\n",
    "    min_date = data['auth_ts'].min()\n",
    "    max_date = data['auth_ts'].max()\n",
    "\n",
    "    # Выведем на экран информацию с диапазоном дат, с которыми мы можем рабоать, для ввода даты которая нас интересует \n",
    "    period_retention = input(f'Введите дату за который вы хотите построить retention в формате год - месяц.\\nВаша дата должна быть не меньше {datetime.fromtimestamp(min_date).strftime('%Y-%m')}, не больше { datetime.fromtimestamp(max_date).strftime('%Y-%m')} \\n')\n",
    "    \n",
    "    # Сортируемый наш DataFrame по выбранному периоду \n",
    "    first_date_period = pd.to_datetime(f'{period_retention}-1')\n",
    "    days_in_month = calendar.monthrange(first_date_period.year, first_date_period.month)[1]\n",
    "    last_date_period = timedelta(days=days_in_month) + first_date_period\n",
    "\n",
    "    data = data[(data['reg_ts'] >= int(first_date_period.timestamp())) & (data['auth_ts'] < int(last_date_period.timestamp()))]\n",
    "    \n",
    "    # Преобразуем строки с Unix-временем в читаемую дату\n",
    "    data['auth_ts'] = pd.to_datetime(data['auth_ts'],unit='s').dt.normalize()\n",
    "    data['reg_ts'] = pd.to_datetime(data['reg_ts'],unit='s').dt.normalize()\n",
    "    \n",
    "    # Рассчитаем количество дней между авторизацией и регистрацией \n",
    "    data['days'] = (data['auth_ts'] - data['reg_ts']).dt.days\n",
    "    \n",
    "    # Рассчитаем количество игроков на начало периода и на конец периода\n",
    "    data['uid_start'] = data.groupby(['reg_ts'])['days'].transform(lambda x: (x == 0).sum())\n",
    "    data['uid_end'] = data.groupby(['reg_ts', 'auth_ts'])['uid'].transform('nunique')\n",
    "\n",
    "    # Рассчитаем retention\n",
    "    data['retention'] = (data.uid_end/data.uid_start).round(2)\n",
    "    \n",
    "    # Убираем 1-ый день, т.к. он некорректен для расчёта\n",
    "    data = data[data['days'] > 0]\n",
    "    \n",
    "     # Создаём сводную таблицу\n",
    "    table = data.pivot_table(index = 'reg_ts', columns = 'days', values = 'retention')\n",
    "\n",
    "    # Строим визуализацию с тепловой картой\n",
    "    plt.figure(figsize=(16, 10))\n",
    "    sns.heatmap(table, annot=True, cmap=\"YlGn\", linewidth=.5)\n",
    "    plt.title(\"Retention, %\")\n",
    "    plt.ylabel(\"Дата регистрации\")\n",
    "    plt.xlabel(\"Дней с регистрации\")\n",
    "    plt.tight_layout()\n",
    "    plt.show()\n",
    "\n",
    "    return table"
   ]
  },
  {
   "cell_type": "code",
   "execution_count": 22,
   "id": "4502bcc0-e8b5-49eb-9ab7-9a83a5a51fac",
   "metadata": {},
   "outputs": [
    {
     "ename": "TypeError",
     "evalue": "retention() takes 1 positional argument but 2 were given",
     "output_type": "error",
     "traceback": [
      "\u001b[1;31m---------------------------------------------------------------------------\u001b[0m",
      "\u001b[1;31mTypeError\u001b[0m                                 Traceback (most recent call last)",
      "Cell \u001b[1;32mIn[22], line 1\u001b[0m\n\u001b[1;32m----> 1\u001b[0m retention(\u001b[38;5;124m'\u001b[39m\u001b[38;5;124mproblem1-auth_data (1).csv\u001b[39m\u001b[38;5;124m'\u001b[39m, \u001b[38;5;124m'\u001b[39m\u001b[38;5;124mproblem1-reg_data (1).csv\u001b[39m\u001b[38;5;124m'\u001b[39m)\n",
      "\u001b[1;31mTypeError\u001b[0m: retention() takes 1 positional argument but 2 were given"
     ]
    }
   ],
   "source": [
    "retention('problem1-auth_data (1).csv', 'problem1-reg_data (1).csv')"
   ]
  },
  {
   "cell_type": "markdown",
   "id": "bd3bdea4-3f9c-4d57-bbbc-bc259065330d",
   "metadata": {},
   "source": [
    "## Если программа выдает ошибку, значит такого временного отрезка нет в документе\n"
   ]
  },
  {
   "cell_type": "code",
   "execution_count": null,
   "id": "1a289c2e-35a8-4e36-9bcf-3ba464ba89a8",
   "metadata": {},
   "outputs": [],
   "source": []
  }
 ],
 "metadata": {
  "kernelspec": {
   "display_name": "Python 3 (ipykernel)",
   "language": "python",
   "name": "python3"
  },
  "language_info": {
   "codemirror_mode": {
    "name": "ipython",
    "version": 3
   },
   "file_extension": ".py",
   "mimetype": "text/x-python",
   "name": "python",
   "nbconvert_exporter": "python",
   "pygments_lexer": "ipython3",
   "version": "3.12.4"
  }
 },
 "nbformat": 4,
 "nbformat_minor": 5
}
